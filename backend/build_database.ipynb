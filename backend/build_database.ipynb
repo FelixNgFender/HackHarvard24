{
 "cells": [
  {
   "cell_type": "markdown",
   "metadata": {},
   "source": [
    "## !!! WARNING: The code block RIGHT BELOW should only be RAN ONCE, else you will have duplicate data in the database.\n",
    "\n",
    "This can be reverted by running the drop table block though. Afterwards, you can run the code block to create the table and initialize the data again.\n"
   ]
  },
  {
   "cell_type": "code",
   "execution_count": 25,
   "metadata": {},
   "outputs": [],
   "source": [
    "from pathlib import Path\n",
    "from typing import List\n",
    "import lancedb\n",
    "from lancedb.pydantic import LanceModel, Vector\n",
    "from lancedb.embeddings import get_registry\n",
    "import torch\n",
    "# import markdown\n",
    "\n",
    "\n",
    "device = torch.device(\"cuda\" if torch.cuda.is_available() else \"cpu\")\n",
    "\n",
    "\n",
    "def extract_paragraphs_from_md(filepath: Path) -> List[str]:\n",
    "    with filepath.open(\"r\", encoding=\"utf-8\") as f:\n",
    "        md_content = f.read()\n",
    "\n",
    "    # html_content = markdown.markdown(md_content)\n",
    "    # paragraphs = html_content.split(\"\\n\\n\")  # Split on double newline\n",
    "    paragraphs = md_content.split(\"\\n\\n\")  # Split on double newline\n",
    "    return paragraphs\n",
    "\n",
    "\n",
    "md_files = [\n",
    "    Path(\"./data/opencasebook/ambiguity.md\"),\n",
    "    Path(\"./data/opencasebook/authorship.md\"),\n",
    "    Path(\"./data/opencasebook/cla-policy.md\"),\n",
    "    Path(\"./data/opencasebook/patents.md\"),\n",
    "    Path(\"./data/opencasebook/remedies.md\"),\n",
    "    Path(\"./data/opencasebook/trademarks.md\"),\n",
    "]\n",
    "\n",
    "uri = \"data/lancedb\"\n",
    "db = lancedb.connect(uri)\n",
    "\n",
    "# Connect to existing table (usage in production)\n",
    "# tbl = db.open_table(uri)\n",
    "\n",
    "embedding_model = (\n",
    "    get_registry()\n",
    "    .get(\"sentence-transformers\")\n",
    "    .create(name=\"all-MiniLM-L6-v2\", device=str(device))\n",
    ")\n",
    "\n",
    "\n",
    "# Set up LanceDB schema with Embedding API for automatic vectorization at ingestion and query time!\n",
    "class LegalParagraphEmbedding(LanceModel):\n",
    "    paragraph: str = embedding_model.SourceField()\n",
    "    vector: Vector(embedding_model.ndims()) = embedding_model.VectorField()  # type: ignore\n",
    "\n",
    "\n",
    "table = db.create_table(\n",
    "    \"legal_paragraphs\",\n",
    "    schema=LegalParagraphEmbedding,\n",
    "    exist_ok=True,\n",
    ")\n",
    "\n",
    "table.add(\n",
    "    [\n",
    "        {\"paragraph\": paragraph}\n",
    "        for md_file in md_files\n",
    "        for paragraph in extract_paragraphs_from_md(md_file)\n",
    "    ]\n",
    ")"
   ]
  },
  {
   "cell_type": "code",
   "execution_count": 26,
   "metadata": {},
   "outputs": [
    {
     "name": "stdout",
     "output_type": "stream",
     "text": [
      "A. Trademark Infringement\n",
      "There are many reasons for a commercial actor to develop, register, and police its\n",
      "trademarks. The careful selection of a brand name will\n",
      "forestall accusations that its brand infringes another trademark. Consistent,\n",
      "regimented use of the brand in commerce should permit the brand to obtain\n",
      "trademark status. Registration of the brand as a trademark will deter\n",
      "infringement, prevent the registration of similar trademarks, and facilitate\n",
      "enforcement efforts. Policing the manner in which others use the trademark will help retain the strength of the mark. Balanced enforcement of a trademark can preserve the distinctiveness of an exclusive source identifier while allowing for legitimate fair uses.\n",
      "> [W]here the defendant uses a trademark to describe the plaintiff's product,\n",
      "> rather than its own, we hold that a commercial user is entitled to a\n",
      "> nominative fair use defense provided he meets the following three\n",
      "> requirements: First, the product or service in question must be one not\n",
      "> readily identifiable without the use of the trademark; second, only so much of\n",
      "> the mark or marks may be used as is reasonably necessary to identify the\n",
      "> product or service; and third, the user must do nothing that would, in\n",
      "> conjunction with the mark, suggest sponsorship or endorsement by the trademark\n",
      "> holder.\n",
      "[^NominativeDiscussion]: _See_ discussion _infra_ Fair Use Defense to Trademark\n",
      "    Infringement.\n",
      "As a general matter, trademark owners have a duty to control the quality of\n",
      "their trademarks. McCarthy § 18:48. \"It is well-established that '[a] trademark\n",
      "owner may grant a license and remain protected provided quality control of the\n",
      "goods and services sold under the trademark by the licensee is maintained.' \"\n",
      "_Barcamerica_, 289 F.3d at 595-96 (quoting _Moore Bus. Forms, Inc. v. Ryu_, 960\n",
      "F.2d 486, 489 (5th Cir. 1992)).\n"
     ]
    }
   ],
   "source": [
    "# By default, LanceDB runs a brute-force scan over dataset to find the K nearest neighbours (KNN). For tables with more than 50K vectors, creating an ANN index is recommended to speed up search performance.\n",
    "query = \"How might a fraudulent trademark application be handled?\"\n",
    "actual = table.search(query).limit(5).to_pydantic(LegalParagraphEmbedding)\n",
    "for a in actual:\n",
    "    print(a.paragraph)"
   ]
  },
  {
   "cell_type": "code",
   "execution_count": 27,
   "metadata": {},
   "outputs": [],
   "source": [
    "db.drop_table(\"legal_paragraphs\", ignore_missing=True)"
   ]
  }
 ],
 "metadata": {
  "kernelspec": {
   "display_name": ".venv",
   "language": "python",
   "name": "python3"
  },
  "language_info": {
   "codemirror_mode": {
    "name": "ipython",
    "version": 3
   },
   "file_extension": ".py",
   "mimetype": "text/x-python",
   "name": "python",
   "nbconvert_exporter": "python",
   "pygments_lexer": "ipython3",
   "version": "3.10.12"
  }
 },
 "nbformat": 4,
 "nbformat_minor": 2
}
